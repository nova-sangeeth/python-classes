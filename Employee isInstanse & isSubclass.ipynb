{
 "cells": [
  {
   "cell_type": "code",
   "execution_count": 1,
   "metadata": {},
   "outputs": [
    {
     "name": "stdout",
     "output_type": "stream",
     "text": [
      "True\n",
      "False\n",
      "True\n",
      "False\n",
      "True\n",
      "True\n",
      "True\n",
      "(<class '__main__.Manager'>, <class '__main__.Employee'>)\n",
      "False\n"
     ]
    }
   ],
   "source": [
    "class Employee:\n",
    "    \n",
    "    def __init__(self,f ,l ,p ):\n",
    "        self.first=f\n",
    "        self.last=l\n",
    "        self.email=f+\".\"+l+\"@python.com\"\n",
    "        self.pay=p\n",
    "        \n",
    "    def print(self):\n",
    "        return \"{} {} {} {}\".format(self.first,self.last,self.email,self.pay)\n",
    "\n",
    "    \n",
    "class Developer(Employee):\n",
    "    \n",
    "    \n",
    "     def print(self):\n",
    "        return \"Developer Overring : {} {} {} {} {}\".format(self.first,self.last,self.email,self.pay,self.lang)\n",
    "    \n",
    "     def __init__(self,f ,l ,p ,lang ):\n",
    "        super().__init__(f,l,p)\n",
    "        self.lang=lang\n",
    "        \n",
    "class Manager(Employee):\n",
    "     \n",
    "    def print(self):\n",
    "        for x in self.employees:\n",
    "            print(x.print())\n",
    "        print(\"Manager Overring : {} {} {} {} {}\".format(self.first,self.last,self.email,self.pay,self.employees))\n",
    "    \n",
    "    def __init__(self,f ,l ,p ,employees=None):\n",
    "        super().__init__(f,l,p)\n",
    "        if employees is None:\n",
    "            self.employees=[]\n",
    "        else:\n",
    "            self.employees=employees\n",
    "    \n",
    "    def add(self, emp):\n",
    "        if emp not in self.employees:\n",
    "            self.employees.append(emp)   \n",
    "            \n",
    "dev_1=Developer(\"Soumyadip\",\"Chowdhury\",700000,\"Python\")\n",
    "dev_2=Developer(\"Soumyadip\",\"Chowdhury\",900000,\"JAVA\")\n",
    "man_1=Manager(\"Soumyadip\",\"Chowdhury\",700000,[dev_1])\n",
    "\n",
    "print(isinstance(dev_1,Developer))\n",
    "print(isinstance(dev_1,Manager))\n",
    "print(isinstance(man_1,Manager))\n",
    "print(isinstance(man_1,Developer))\n",
    "print(isinstance(dev_1,Employee))\n",
    "print(isinstance(man_1,Employee))\n",
    "\n",
    "print(issubclass(Developer,Employee))\n",
    "print((Manager,Employee))\n",
    "print(issubclass(Manager,Developer))"
   ]
  }
 ],
 "metadata": {
  "kernelspec": {
   "display_name": "Python 3.10.4 64-bit",
   "language": "python",
   "name": "python3"
  },
  "language_info": {
   "codemirror_mode": {
    "name": "ipython",
    "version": 3
   },
   "file_extension": ".py",
   "mimetype": "text/x-python",
   "name": "python",
   "nbconvert_exporter": "python",
   "pygments_lexer": "ipython3",
   "version": "3.10.4"
  },
  "vscode": {
   "interpreter": {
    "hash": "916dbcbb3f70747c44a77c7bcd40155683ae19c65e1c03b4aa3499c5328201f1"
   }
  }
 },
 "nbformat": 4,
 "nbformat_minor": 4
}
