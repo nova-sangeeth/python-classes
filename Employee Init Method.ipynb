{
 "cells": [
  {
   "cell_type": "code",
   "execution_count": 29,
   "metadata": {},
   "outputs": [
    {
     "name": "stdout",
     "output_type": "stream",
     "text": [
      "<__main__.Employee object at 0x0000020E598AEE88>\n",
      "Soumyadip\n",
      "Chowdhury\n",
      "Soumyadip.Chowdhury@python.com\n",
      "900000\n",
      "<__main__.Employee object at 0x0000020E598AE108>\n",
      "Soumyadip\n",
      "Chowdhury\n",
      "Soumyadip.Chowdhury@python.com\n",
      "100000\n"
     ]
    }
   ],
   "source": [
    "class Employee:\n",
    "    \n",
    "    def __init__(self,f ,l ,p ):\n",
    "        self.first=f\n",
    "        self.last=l\n",
    "        self.email=f+\".\"+l+\"@python.com\"\n",
    "        self.pay=p\n",
    "        \n",
    "    \n",
    "emp_1=Employee(\"Soumyadip\",\"Chowdhury\",900000)\n",
    "emp_2=Employee(\"Soumyadip\",\"Chowdhury\",100000)\n",
    "print(emp_1)\n",
    "print(emp_1.first)\n",
    "print(emp_1.last)\n",
    "print(emp_1.email)\n",
    "print(emp_1.pay )\n",
    "print(emp_2)\n",
    "print(emp_2.first)\n",
    "print(emp_2.last)\n",
    "print(emp_2.email)\n",
    "print(emp_2.pay )"
   ]
  }
 ],
 "metadata": {
  "kernelspec": {
   "display_name": "Python 3.10.4 64-bit",
   "language": "python",
   "name": "python3"
  },
  "language_info": {
   "codemirror_mode": {
    "name": "ipython",
    "version": 3
   },
   "file_extension": ".py",
   "mimetype": "text/x-python",
   "name": "python",
   "nbconvert_exporter": "python",
   "pygments_lexer": "ipython3",
   "version": "3.10.4"
  },
  "vscode": {
   "interpreter": {
    "hash": "916dbcbb3f70747c44a77c7bcd40155683ae19c65e1c03b4aa3499c5328201f1"
   }
  }
 },
 "nbformat": 4,
 "nbformat_minor": 4
}
