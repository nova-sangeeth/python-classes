{
 "cells": [
  {
   "cell_type": "code",
   "execution_count": 27,
   "metadata": {},
   "outputs": [
    {
     "name": "stdout",
     "output_type": "stream",
     "text": [
      "Overring : Soumyadip Chowdhury Soumyadip.Chowdhury@python.com 700000 Python\n",
      "Overring : Soumyadip Chowdhury Soumyadip.Chowdhury@python.com 900000 JAVA\n",
      "Help on class Developer in module __main__:\n",
      "\n",
      "class Developer(Employee)\n",
      " |  Developer(f, l, p, lang)\n",
      " |  \n",
      " |  Method resolution order:\n",
      " |      Developer\n",
      " |      Employee\n",
      " |      builtins.object\n",
      " |  \n",
      " |  Methods defined here:\n",
      " |  \n",
      " |  __init__(self, f, l, p, lang)\n",
      " |      Initialize self.  See help(type(self)) for accurate signature.\n",
      " |  \n",
      " |  print(self)\n",
      " |  \n",
      " |  ----------------------------------------------------------------------\n",
      " |  Data descriptors inherited from Employee:\n",
      " |  \n",
      " |  __dict__\n",
      " |      dictionary for instance variables (if defined)\n",
      " |  \n",
      " |  __weakref__\n",
      " |      list of weak references to the object (if defined)\n",
      "\n",
      "None\n"
     ]
    }
   ],
   "source": [
    "class Employee:\n",
    "    \n",
    "    def __init__(self,f ,l ,p ):\n",
    "        self.first=f\n",
    "        self.last=l\n",
    "        self.email=f+\".\"+l+\"@python.com\"\n",
    "        self.pay=p\n",
    "        \n",
    "    def print(self):\n",
    "        return \"{} {} {} {}\".format(self.first,self.last,self.email,self.pay)\n",
    "\n",
    "    \n",
    "class Developer(Employee):\n",
    "     def print(self):\n",
    "        return \"Overring : {} {} {} {} {}\".format(self.first,self.last,self.email,self.pay,self.lang)\n",
    "    \n",
    "     def __init__(self,f ,l ,p ,lang ):\n",
    "        super().__init__(f,l,p)\n",
    "        #Employee.__init__(self,f,l,p)\n",
    "        self.lang=lang\n",
    "    \n",
    "dev_1=Developer(\"Soumyadip\",\"Chowdhury\",700000,\"Python\")\n",
    "dev_2=Developer(\"Soumyadip\",\"Chowdhury\",900000,\"JAVA\")\n",
    "print(dev_1.print())\n",
    "print(dev_2.print())\n",
    "print(help(Developer))"
   ]
  }
 ],
 "metadata": {
  "kernelspec": {
   "display_name": "Python 3.10.4 64-bit",
   "language": "python",
   "name": "python3"
  },
  "language_info": {
   "codemirror_mode": {
    "name": "ipython",
    "version": 3
   },
   "file_extension": ".py",
   "mimetype": "text/x-python",
   "name": "python",
   "nbconvert_exporter": "python",
   "pygments_lexer": "ipython3",
   "version": "3.10.4"
  },
  "vscode": {
   "interpreter": {
    "hash": "916dbcbb3f70747c44a77c7bcd40155683ae19c65e1c03b4aa3499c5328201f1"
   }
  }
 },
 "nbformat": 4,
 "nbformat_minor": 4
}
