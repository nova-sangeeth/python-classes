{
 "cells": [
  {
   "cell_type": "code",
   "execution_count": 17,
   "metadata": {},
   "outputs": [
    {
     "name": "stdout",
     "output_type": "stream",
     "text": [
      "1.04\n",
      "1.04\n",
      "Soumyadip\n",
      "Hello\n"
     ]
    },
    {
     "data": {
      "text/plain": [
       "'Soumyadip Chowdhury s.c@python.com 100000'"
      ]
     },
     "execution_count": 17,
     "metadata": {},
     "output_type": "execute_result"
    }
   ],
   "source": [
    "class Employee:\n",
    "    \n",
    "    no_empl=0;\n",
    "    raise_amount=1.04\n",
    "    \n",
    "    def __init__(self):\n",
    "        self.first=\"Soumyadip\"\n",
    "        self.last=\"Chowdhury\"\n",
    "        self.email=\"s.c@python.com\"\n",
    "        self.pay=100000\n",
    "        Employee.no_empl=Employee.no_empl+1\n",
    "        \n",
    "        \n",
    "    def print(self):\n",
    "        print(\"Hello\")\n",
    "        return \"{} {} {} {}\".format(self.first,self.last,self.email,self.pay)\n",
    "   \n",
    "        \n",
    "        \n",
    "emp_1=Employee()\n",
    "print(Employee.raise_amount)\n",
    "print(emp_1.raise_amount)\n",
    "\n",
    "print(emp_1.first)\n",
    "emp_1.print()"
   ]
  },
  {
   "cell_type": "code",
   "execution_count": null,
   "metadata": {},
   "outputs": [],
   "source": []
  }
 ],
 "metadata": {
  "kernelspec": {
   "display_name": "Python 3.10.4 64-bit",
   "language": "python",
   "name": "python3"
  },
  "language_info": {
   "codemirror_mode": {
    "name": "ipython",
    "version": 3
   },
   "file_extension": ".py",
   "mimetype": "text/x-python",
   "name": "python",
   "nbconvert_exporter": "python",
   "pygments_lexer": "ipython3",
   "version": "3.10.4"
  },
  "vscode": {
   "interpreter": {
    "hash": "916dbcbb3f70747c44a77c7bcd40155683ae19c65e1c03b4aa3499c5328201f1"
   }
  }
 },
 "nbformat": 4,
 "nbformat_minor": 4
}
