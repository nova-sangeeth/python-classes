{
 "cells": [
  {
   "cell_type": "code",
   "execution_count": 40,
   "metadata": {},
   "outputs": [
    {
     "name": "stdout",
     "output_type": "stream",
     "text": [
      "1.04\n",
      "1.04\n",
      "1.04\n",
      "1.04\n",
      "100\n",
      "1.04\n",
      "{'__module__': '__main__', 'no_empl': 2, 'raise_amount': 1.04, '__init__': <function Employee.__init__ at 0x0000024613257AF8>, 'print': <function Employee.print at 0x0000024613257318>, 'apply_raise': <function Employee.apply_raise at 0x0000024613257A68>, '__dict__': <attribute '__dict__' of 'Employee' objects>, '__weakref__': <attribute '__weakref__' of 'Employee' objects>, '__doc__': None}\n",
      "{'first': 'Soumyadip', 'last': 'Chowdhury', 'email': 'Soumyadip.Chowdhury@python.com', 'pay': 900000, 'raise_amount': 100}\n",
      "{'first': 'Soumyadip', 'last': 'Chowdhury', 'email': 'Soumyadip.Chowdhury@python.com', 'pay': 100000}\n",
      "Soumyadip Chowdhury Soumyadip.Chowdhury@python.com 90000000\n",
      "Soumyadip Chowdhury Soumyadip.Chowdhury@python.com 100000\n",
      "No Of Employees 2\n",
      "No Of Employees 2\n",
      "No Of Employees 2\n"
     ]
    }
   ],
   "source": [
    "class Employee:\n",
    "    \n",
    "    no_empl=0;\n",
    "    raise_amount=1.04\n",
    "    \n",
    "    def __init__(self,f ,l ,p ):\n",
    "        self.first=f\n",
    "        self.last=l\n",
    "        self.email=f+\".\"+l+\"@python.com\"\n",
    "        self.pay=p\n",
    "        Employee.no_empl=Employee.no_empl+1\n",
    "        \n",
    "        \n",
    "    def print(self):\n",
    "        return \"{} {} {} {}\".format(self.first,self.last,self.email,self.pay)\n",
    "   \n",
    "    def apply_raise(self):\n",
    "        self.pay=int(self.pay* self.raise_amount)\n",
    "    ## Can print using class,self and obj name    \n",
    "        \n",
    "emp_1=Employee(\"Soumyadip\",\"Chowdhury\",900000)\n",
    "emp_2=Employee(\"Soumyadip\",\"Chowdhury\",100000)\n",
    "\n",
    "print(Employee.raise_amount)\n",
    "print(emp_1.raise_amount)\n",
    "print(emp_2.raise_amount)\n",
    "\n",
    "emp_1.raise_amount=100\n",
    "\n",
    "print(Employee.raise_amount)\n",
    "print(emp_1.raise_amount)\n",
    "print(emp_2.raise_amount)\n",
    "\n",
    "\n",
    "print(Employee.__dict__)\n",
    "print(emp_1.__dict__)\n",
    "print(emp_2.__dict__)\n",
    "\n",
    "emp_1.apply_raise()\n",
    "\n",
    "print(emp_1.print())\n",
    "print(emp_2.print())\n",
    "\n",
    "print(\"No Of Employees\",emp_1.no_empl)\n",
    "print(\"No Of Employees\",emp_2.no_empl)\n",
    "print(\"No Of Employees\",Employee.no_empl)"
   ]
  },
  {
   "cell_type": "code",
   "execution_count": null,
   "metadata": {},
   "outputs": [],
   "source": []
  }
 ],
 "metadata": {
  "kernelspec": {
   "display_name": "Python 3.10.4 64-bit",
   "language": "python",
   "name": "python3"
  },
  "language_info": {
   "codemirror_mode": {
    "name": "ipython",
    "version": 3
   },
   "file_extension": ".py",
   "mimetype": "text/x-python",
   "name": "python",
   "nbconvert_exporter": "python",
   "pygments_lexer": "ipython3",
   "version": "3.10.4"
  },
  "vscode": {
   "interpreter": {
    "hash": "916dbcbb3f70747c44a77c7bcd40155683ae19c65e1c03b4aa3499c5328201f1"
   }
  }
 },
 "nbformat": 4,
 "nbformat_minor": 4
}
