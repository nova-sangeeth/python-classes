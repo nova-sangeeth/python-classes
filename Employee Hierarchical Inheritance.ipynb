{
 "cells": [
  {
   "cell_type": "code",
   "execution_count": 34,
   "metadata": {},
   "outputs": [
    {
     "name": "stdout",
     "output_type": "stream",
     "text": [
      "Developer Overring : Soumyadip Chowdhury Soumyadip.Chowdhury@python.com 700000 Python\n",
      "Developer Overring : Soumyadip Chowdhury Soumyadip.Chowdhury@python.com 900000 JAVA\n",
      "Manager\n",
      "Developer Overring : Soumyadip Chowdhury Soumyadip.Chowdhury@python.com 700000 Python\n",
      "Developer Overring : Soumyadip Chowdhury Soumyadip.Chowdhury@python.com 900000 JAVA\n",
      "Manager Overring : Soumyadip Chowdhury Soumyadip.Chowdhury@python.com 700000 [<__main__.Developer object at 0x000001EFA8D30888>, <__main__.Developer object at 0x000001EFA8DF2088>]\n"
     ]
    }
   ],
   "source": [
    "class Employee:\n",
    "    \n",
    "    def __init__(self,f ,l ,p ):\n",
    "        self.first=f\n",
    "        self.last=l\n",
    "        self.email=f+\".\"+l+\"@python.com\"\n",
    "        self.pay=p\n",
    "        \n",
    "    def print(self):\n",
    "        return \"{} {} {} {}\".format(self.first,self.last,self.email,self.pay)\n",
    "\n",
    "    \n",
    "class Developer(Employee):\n",
    "    \n",
    "    \n",
    "     def print(self):\n",
    "        return \"Developer Overring : {} {} {} {} {}\".format(self.first,self.last,self.email,self.pay,self.lang)\n",
    "    \n",
    "     def __init__(self,f ,l ,p ,lang ):\n",
    "        super().__init__(f,l,p)\n",
    "        self.lang=lang\n",
    "        \n",
    "class Manager(Employee):\n",
    "     \n",
    "    def print(self):\n",
    "        print(\"Manager\")\n",
    "        for x in self.employees:\n",
    "            print(x.print())\n",
    "        print(\"Manager Overring : {} {} {} {} {}\".format(self.first,self.last,self.email,self.pay,self.employees))\n",
    "    \n",
    "    def __init__(self,f ,l ,p ,employees=None):\n",
    "        super().__init__(f,l,p)\n",
    "        if employees is None:\n",
    "            self.employees=[]\n",
    "        else:\n",
    "            self.employees=employees\n",
    "    \n",
    "    def add(self, emp):\n",
    "        if emp not in self.employees:\n",
    "            self.employees.append(emp)   \n",
    "            \n",
    "dev_1=Developer(\"Soumyadip\",\"Chowdhury\",700000,\"Python\")\n",
    "dev_2=Developer(\"Soumyadip\",\"Chowdhury\",900000,\"JAVA\")\n",
    "print(dev_1.print())\n",
    "print(dev_2.print())\n",
    "man_1=Manager(\"Soumyadip\",\"Chowdhury\",700000,[dev_1])\n",
    "man_1.add(dev_2)\n",
    "man_1.print()"
   ]
  }
 ],
 "metadata": {
  "kernelspec": {
   "display_name": "Python 3.10.4 64-bit",
   "language": "python",
   "name": "python3"
  },
  "language_info": {
   "codemirror_mode": {
    "name": "ipython",
    "version": 3
   },
   "file_extension": ".py",
   "mimetype": "text/x-python",
   "name": "python",
   "nbconvert_exporter": "python",
   "pygments_lexer": "ipython3",
   "version": "3.10.4"
  },
  "vscode": {
   "interpreter": {
    "hash": "916dbcbb3f70747c44a77c7bcd40155683ae19c65e1c03b4aa3499c5328201f1"
   }
  }
 },
 "nbformat": 4,
 "nbformat_minor": 4
}
